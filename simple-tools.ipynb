{
 "cells": [
  {
   "attachments": {},
   "cell_type": "markdown",
   "metadata": {},
   "source": [
    "# LangChain demo\n",
    "\n",
    "## Links\n",
    "1. [samwit - colab - YT LangChain - Agents.ipynb, React & Serpai ](https://colab.research.google.com/drive/1QpvUHQzpHPvlMgBElwd5NJQ6qpryVeWE?usp=sharing)\n",
    "1. [samwit - github youtube samples](https://github.com/samwit/langchain-tutorials/tree/main)\n",
    "1. [Building Custom Tools and Agents with LangChain (gpt-3.5-turbo)](https://www.youtube.com/watch?v=biS8G8x8DdA): [samwit - colab - YT LangChain Custom Tools & Agents.ipynb](https://colab.research.google.com/drive/1FYsa3x3PzziL57EHEIuIqa5rkCAxCbin?usp=sharing) uses chat-conversational-react-description\n",
    "\n",
    "## Demo use case\n",
    "\n",
    "### Tools\n",
    "1. IncidentTool. Simple text\n",
    "1. KnowledgeBaseTool: Vectorstore \n",
    "1. NewRelicTool: PandasAI\n",
    "1. OrgSearchTool: Team, people, rules of engagement\n",
    "\n",
    "### Flow\n",
    "1. Get inc\n",
    "1. Describe steps for user to create/trigger\n",
    "    1. Narrative\n",
    "    1. Bullet point flow\n",
    "1. Describe what happened\n",
    "    1. Narrative\n",
    "    1. Bullet point flow\n",
    "1. Team to direct inc to\n",
    "    1. Team/person\n",
    "    1. How to engage (i.e., email, Absa Snow with configs)\n",
    "1. Extraction"
   ]
  },
  {
   "cell_type": "code",
   "execution_count": 29,
   "metadata": {},
   "outputs": [],
   "source": [
    "import os\n",
    "import json\n",
    "\n",
    "# Load setting from Json outside of project.\n",
    "f = open('../../env/ai.json')\n",
    "settingsJson = json.load(f)\n",
    "del f\n",
    "\n",
    "for key in settingsJson:\n",
    "    os.environ[key] = settingsJson[key]\n",
    "    \n",
    "del settingsJson\n",
    "    \n",
    "# # OR manually set them\n",
    "# os.environ['REQUESTS_CA_BUNDLE'] = '../../env/ZCert.pem'\n",
    "# os.environ['HUGGING_FACE_API_KEY'] = 'Get here: https://huggingface.co/settings/tokens'\n",
    "# os.environ['OPENAI_API_KEY'] = 'Get here: https://platform.openai.com/account/api-keys'\n",
    "# os.environ[\"SERPAPI_API_KEY\"] = 'serpapi KEY, Get here: https://serpapi.com/manage-api-key'\n"
   ]
  },
  {
   "cell_type": "code",
   "execution_count": 30,
   "metadata": {},
   "outputs": [],
   "source": [
    "#!pip install langchain unstructured openai chromadb Cython tiktoken pypdf\n",
    "\n",
    "\n",
    "# Old code\n",
    "        #!pip install unstructured\n",
    "        # I had issues here so ran the following to make PC trust PIP\n",
    "        # pip install --trusted-host pypi.org --trusted-host pypi.python.org --trusted-host files.pythonhosted.org pip setuptools\n",
    "        # pip config set global.trusted-host \"pypi.org files.pythonhosted.org pypi.python.org\"\n",
    "\n",
    "        #!pip install markdown\n",
    "        #!pip install urllib3==1.25.11\n",
    "\n",
    "        #!pip install pypdf\n",
    "        \n",
    "        #!pip install chromadb\n",
    "        # For chromadb you have to have C++ builders intalled see link below: \"I have faced similar issue on Windows OS, while doing...\"\n",
    "        #   https://stackoverflow.com/questions/73969269/error-could-not-build-wheels-for-hnswlib-which-is-required-to-install-pyprojec\n",
    "\n",
    "        #!pip install pydantic-settings"
   ]
  },
  {
   "cell_type": "code",
   "execution_count": 31,
   "metadata": {},
   "outputs": [],
   "source": [
    "from langchain.agents import load_tools\n",
    "from langchain.agents import initialize_agent\n",
    "from langchain.llms import OpenAI\n",
    "from langchain.chat_models import ChatOpenAI\n",
    "\n",
    "# Tools \n",
    "from langchain.agents import Tool\n",
    "from langchain.tools import BaseTool"
   ]
  },
  {
   "cell_type": "code",
   "execution_count": 32,
   "metadata": {},
   "outputs": [],
   "source": [
    "llm = OpenAI(temperature=0)"
   ]
  },
  {
   "attachments": {},
   "cell_type": "markdown",
   "metadata": {},
   "source": [
    "## Create custom tool"
   ]
  },
  {
   "attachments": {},
   "cell_type": "markdown",
   "metadata": {},
   "source": [
    "# Simple Text Tool\n",
    "Returns simple text"
   ]
  },
  {
   "cell_type": "code",
   "execution_count": 33,
   "metadata": {},
   "outputs": [],
   "source": [
    "# Simple Text Tool\n",
    "\n",
    "def incident_search(incident_number: str):    \n",
    "    with open('data/incident-store.txt') as f:\n",
    "        lines = f.readlines()\n",
    "    \n",
    "    return  lines\n",
    "\n",
    "incident_search_tool = Tool(\n",
    "    name='Incident tool', \n",
    "    func= incident_search,    \n",
    "    description=\"\"\"\n",
    "        Useful for queries about incidents.         \n",
    "        Use the date to order incidents.\n",
    "        The 'State' of an incident is 'Open' when the State field is not 'Resolved', 'Closed', 'Cancelled'        \n",
    "        \"\"\"\n",
    ")"
   ]
  },
  {
   "attachments": {},
   "cell_type": "markdown",
   "metadata": {},
   "source": [
    "# Vectorstore \n",
    "Vectorstore\n",
    "https://python.langchain.com/docs/integrations/toolkits/vectorstore \\\n",
    "\\\n",
    "Markdown \\\n",
    "Try this later on \\\n",
    "https://python.langchain.com/docs/modules/data_connection/document_loaders/markdown \\\n",
    "https://python.langchain.com/docs/modules/data_connection/document_transformers/text_splitters/markdown_header_metadata \n",
    "\n"
   ]
  },
  {
   "cell_type": "code",
   "execution_count": 34,
   "metadata": {},
   "outputs": [],
   "source": [
    "from langchain.document_loaders import PyPDFLoader\n",
    "\n",
    "loader = PyPDFLoader(\"data/knowledge-base.pdf\")\n",
    "internalKbPages = loader.load_and_split()\n",
    "\n",
    "# for i in pages:\n",
    "#     print(i)\n",
    "#     print('**************************')\n",
    "\n",
    "# TODO: add a publicKnowledgePages collection\n",
    "# loader = PyPDFLoader(\"data/south-africa-sarb-currency-and-exchanges-guidelines-for-business-entities.pdf\")\n",
    "# publicKnowledgePages = loader.load_and_split()\n",
    "\n",
    "# loader = PyPDFLoader(\"data/south-africa-sarb-currency-and-exchanges-guidelines-for-business-entities.pdf\")\n",
    "# publicKnowledgePages.append(loader.load_and_split())\n",
    "\n",
    "# loader = PyPDFLoader(\"data/south-africa-currency-and-exchanges-manual-for-authorised-dealers.pdf\")\n",
    "# publicKnowledgePages.append(loader.load_and_split())\n",
    "\n",
    "# loader = PyPDFLoader(\"data/fx-global-code.pdf\")\n",
    "# publicKnowledgePages.append(loader.load_and_split())\n"
   ]
  },
  {
   "cell_type": "code",
   "execution_count": 35,
   "metadata": {},
   "outputs": [],
   "source": [
    "from langchain.embeddings.openai import OpenAIEmbeddings\n",
    "from langchain.vectorstores import Chroma"
   ]
  },
  {
   "cell_type": "code",
   "execution_count": 36,
   "metadata": {},
   "outputs": [],
   "source": [
    "from langchain.embeddings.openai import OpenAIEmbeddings\n",
    "from langchain.vectorstores import Chroma\n",
    "\n",
    "embeddings = OpenAIEmbeddings()\n",
    "knowledgeStore = Chroma.from_documents(internalKbPages, embeddings) #, collection_name='internal-knowledge-base-1')"
   ]
  },
  {
   "cell_type": "code",
   "execution_count": 37,
   "metadata": {},
   "outputs": [],
   "source": [
    "# result = knowledgeStore.similarity_search(\"When should we uninstall the app?\", k=1)\n",
    "#print(result)"
   ]
  },
  {
   "cell_type": "markdown",
   "metadata": {},
   "source": [
    "# Vectorstore Knowledgebase Query Tool\n",
    "The query hits the vector store"
   ]
  },
  {
   "cell_type": "code",
   "execution_count": 38,
   "metadata": {},
   "outputs": [],
   "source": [
    "def internal_knowledgebase_search(query: str):\n",
    "    result = knowledgeStore.similarity_search(query, k=1)        \n",
    "    return  result\n",
    "\n",
    "internal_knowledgebase_tool = Tool(\n",
    "    name='Internal Knowledgebase tool', \n",
    "    func= internal_knowledgebase_search,    \n",
    "    description=\"\"\"\n",
    "        Useful for querying about our internal services, teams and how to solve customer problems.\n",
    "        The internal knowledge base has steps on how to solve customers problems, how our software systems work and which people and teams to reach out to. \n",
    "        Ask it for questions like 'What should I do?', 'What are the causes of this?', 'What do I do next?'\n",
    "        \"\"\"\n",
    ")"
   ]
  },
  {
   "attachments": {},
   "cell_type": "markdown",
   "metadata": {},
   "source": [
    "# Setup agent"
   ]
  },
  {
   "cell_type": "code",
   "execution_count": 47,
   "metadata": {},
   "outputs": [],
   "source": [
    "from langchain.chains.conversation.memory import ConversationBufferWindowMemory\n",
    "from langchain.agents import initialize_agent\n",
    "\n",
    "tools = [incident_search_tool, internal_knowledgebase_tool]\n",
    "\n",
    "#del memory \n",
    "\n",
    "# conversational agent memory\n",
    "memory = ConversationBufferWindowMemory(memory_key='chat_history', k=3, return_messages=True)\n",
    "\n",
    "# Set up the turbo LLM\n",
    "turbo_llm = ChatOpenAI(temperature=0, model_name='gpt-3.5-turbo')\n",
    "\n",
    "# create our agent\n",
    "conversational_agent = initialize_agent(\n",
    "    agent='chat-conversational-react-description',\n",
    "    tools=tools,\n",
    "    llm=turbo_llm,\n",
    "    verbose=True,\n",
    "    max_iterations=3,\n",
    "    early_stopping_method='generate',\n",
    "    memory=memory\n",
    ")"
   ]
  },
  {
   "cell_type": "code",
   "execution_count": 48,
   "metadata": {},
   "outputs": [
    {
     "name": "stdout",
     "output_type": "stream",
     "text": [
      "\n",
      "\n",
      "\u001b[1m> Entering new AgentExecutor chain...\u001b[0m\n",
      "\u001b[32;1m\u001b[1;3m{\n",
      "    \"action\": \"Internal Knowledgebase tool\",\n",
      "    \"action_input\": \"Who should I reach out to for fixing incorrect FX prices?\"\n",
      "}\u001b[0m\n",
      "Observation: \u001b[33;1m\u001b[1;3m[Document(page_content='Teams and People  \\nFX Infrastructure Team  \\nHow to contact them? Send them an email to fxinfrateam@contoso.com In the email you must put the \\nfolllowing information: How urgent this is, who to reach out to for more information  \\n \\nFX Data Team  \\nHow to contact them? Cut a ServiceNow Incident against them with the following information: Service: \\n\"{name_of_service} {environment} Configuration Item: {name_of_service} {environment} Assignment \\nGroup: FX Data Team  \\n \\nFX Dev Team  \\nHow to contact them? Cut a ServiceNow Incident against them with the following informa tion: Service: \\n\"{name_of_service} {environment} Configuration Item: {name_of_service} {environment} Assignment \\nGroup: FX Pricing Dev Team  \\n \\nCommunications Delivery Team  \\nThis team manages relationships with sending communications out acros various channels. Their main \\nwork is around interacting with Cellphone Network Providers. How to contact them? Send them an \\nemail at: communicationsdeliveryteam@contoso.com  \\n \\nNotification Service Team  \\nThis team owns a set of services that send communications to customers. Fo r example: templated \\nemails, service status updates, SMS\\'s. How to contact them? Reach out to them on their MS Teams \\nGroup \"Notification Service Team Engagement\"  \\n \\nRunbooks  \\nRates Error Mapping Runbook  \\nThis section describes how to troubleshoot issues with r ates. If users are not getting ticking rates this is \\nwhere you must come to troubleshoot.  \\nMappings incorrect  \\nIf mapping are incorrect for a given pair/tenor  then you will not be able to subscribe to them. Users will \\nnot get ticking rates.', metadata={'page': 1, 'source': 'data/knowledge-base.pdf'})]\u001b[0m\n",
      "Thought:\u001b[32;1m\u001b[1;3m{\n",
      "    \"action\": \"Final Answer\",\n",
      "    \"action_input\": \"To fix incorrect FX prices, you should reach out to the FX Infrastructure Team, the FX Data Team, or the FX Dev Team. You can contact the FX Infrastructure Team by sending an email to fxinfrateam@contoso.com. For the FX Data Team and FX Dev Team, you can cut a ServiceNow Incident with the necessary information. Additionally, you can reach out to the Communications Delivery Team for managing relationships with sending communications, and the Notification Service Team for services that send communications to customers.\"\n",
      "}\u001b[0m\n",
      "\n",
      "\u001b[1m> Finished chain.\u001b[0m\n",
      "{'input': \"\\nYou are a support engineer who is helping troubleshoot software issues. \\nYou responses need to be specific and factful, they can only contain information that you get back from the tools and observations.\\nIf you don't know the answer then say so and don't make up anything. \\n\\nQuestion: My FX Prices are incorrect, who should I reach out to in order to fix them? \\n\\n\", 'chat_history': [], 'output': 'To fix incorrect FX prices, you should reach out to the FX Infrastructure Team, the FX Data Team, or the FX Dev Team. You can contact the FX Infrastructure Team by sending an email to fxinfrateam@contoso.com. For the FX Data Team and FX Dev Team, you can cut a ServiceNow Incident with the necessary information. Additionally, you can reach out to the Communications Delivery Team for managing relationships with sending communications, and the Notification Service Team for services that send communications to customers.'}\n"
     ]
    }
   ],
   "source": [
    "question = \"\"\"\n",
    "You are a support engineer who is helping troubleshoot software issues. \n",
    "You responses need to be specific and factful, they can only contain information that you get back from the tools and observations.\n",
    "If you don't know the answer then say so and don't make up anything. \n",
    "If you have to reach out to a person or team then think about which is the best team for the problem and only return one team in your answer.\n",
    "\n",
    "Question: My FX Prices are incorrect, who should I reach out to in order to fix them? \n",
    "\n",
    "\"\"\"\n",
    "# Question: What did the user do to create the latest incident?\n",
    "# Question: How do I troubleshoot a user who's application keeps crashing when they click detach?\n",
    "# Question: My FX Prices are incorrect, who should I reach out to in order to fix them? \n",
    "\n",
    "answer = conversational_agent(question)\n",
    "print(answer)\n",
    "x = 1"
   ]
  }
 ],
 "metadata": {
  "kernelspec": {
   "display_name": ".venv",
   "language": "python",
   "name": "python3"
  },
  "language_info": {
   "codemirror_mode": {
    "name": "ipython",
    "version": 3
   },
   "file_extension": ".py",
   "mimetype": "text/x-python",
   "name": "python",
   "nbconvert_exporter": "python",
   "pygments_lexer": "ipython3",
   "version": "3.10.6"
  },
  "orig_nbformat": 4,
  "vscode": {
   "interpreter": {
    "hash": "c5e69aaaff91c6807e0ef15afd464516a5dabc9ed5ae56c263ce858cc6c8715f"
   }
  }
 },
 "nbformat": 4,
 "nbformat_minor": 2
}
