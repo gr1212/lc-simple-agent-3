{
 "cells": [
  {
   "attachments": {},
   "cell_type": "markdown",
   "metadata": {},
   "source": [
    "# LangChain demo\n",
    "\n",
    "## Links\n",
    "1. [samwit - colab - YT LangChain - Agents.ipynb, React & Serpai ](https://colab.research.google.com/drive/1QpvUHQzpHPvlMgBElwd5NJQ6qpryVeWE?usp=sharing)\n",
    "1. [samwit - github youtube samples](https://github.com/samwit/langchain-tutorials/tree/main)\n",
    "1. [Building Custom Tools and Agents with LangChain (gpt-3.5-turbo)](https://www.youtube.com/watch?v=biS8G8x8DdA): [samwit - colab - YT LangChain Custom Tools & Agents.ipynb](https://colab.research.google.com/drive/1FYsa3x3PzziL57EHEIuIqa5rkCAxCbin?usp=sharing) uses chat-conversational-react-description\n",
    "\n",
    "## Demo use case\n",
    "\n",
    "### Tools\n",
    "1. IncidentTool. Simple text\n",
    "1. KnowledgeBaseTool: Vectorstore \n",
    "1. NewRelicTool: PandasAI\n",
    "1. OrgSearchTool: Team, people, rules of engagement\n",
    "\n",
    "### Flow\n",
    "1. Get inc\n",
    "1. Describe steps for user to create/trigger\n",
    "    1. Narrative\n",
    "    1. Bullet point flow\n",
    "1. Describe what happened\n",
    "    1. Narrative\n",
    "    1. Bullet point flow\n",
    "1. Team to direct inc to\n",
    "    1. Team/person\n",
    "    1. How to engage (i.e., email, Absa Snow with configs)\n",
    "1. Extraction"
   ]
  },
  {
   "cell_type": "code",
   "execution_count": 1,
   "metadata": {},
   "outputs": [],
   "source": [
    "import os\n",
    "import json\n",
    "\n",
    "# Load setting from Json outside of project.\n",
    "f = open('../../env/ai.json')\n",
    "settingsJson = json.load(f)\n",
    "del f\n",
    "\n",
    "for key in settingsJson:\n",
    "    os.environ[key] = settingsJson[key]\n",
    "    \n",
    "del settingsJson\n",
    "    \n",
    "# # OR manually set them\n",
    "# os.environ['REQUESTS_CA_BUNDLE'] = '../../env/ZCert.pem'\n",
    "# os.environ['HUGGING_FACE_API_KEY'] = 'Get here: https://huggingface.co/settings/tokens'\n",
    "# os.environ['OPENAI_API_KEY'] = 'Get here: https://platform.openai.com/account/api-keys'\n",
    "# os.environ[\"SERPAPI_API_KEY\"] = 'serpapi KEY, Get here: https://serpapi.com/manage-api-key'\n"
   ]
  },
  {
   "cell_type": "code",
   "execution_count": 2,
   "metadata": {},
   "outputs": [],
   "source": [
    "#!pip install langchain unstructured openai chromadb Cython tiktoken pypdf\n",
    "\n",
    "\n",
    "# Old code\n",
    "        #!pip install unstructured\n",
    "        # I had issues here so ran the following to make PC trust PIP\n",
    "        # pip install --trusted-host pypi.org --trusted-host pypi.python.org --trusted-host files.pythonhosted.org pip setuptools\n",
    "        # pip config set global.trusted-host \"pypi.org files.pythonhosted.org pypi.python.org\"\n",
    "\n",
    "        #!pip install markdown\n",
    "        #!pip install urllib3==1.25.11\n",
    "\n",
    "        #!pip install pypdf\n",
    "        \n",
    "        #!pip install chromadb\n",
    "        # For chromadb you have to have C++ builders intalled see link below: \"I have faced similar issue on Windows OS, while doing...\"\n",
    "        #   https://stackoverflow.com/questions/73969269/error-could-not-build-wheels-for-hnswlib-which-is-required-to-install-pyprojec\n",
    "\n",
    "        #!pip install pydantic-settings"
   ]
  },
  {
   "cell_type": "code",
   "execution_count": 3,
   "metadata": {},
   "outputs": [],
   "source": [
    "from langchain.agents import load_tools\n",
    "from langchain.agents import initialize_agent\n",
    "from langchain.llms import OpenAI\n",
    "from langchain.chat_models import ChatOpenAI\n",
    "\n",
    "# Tools \n",
    "from langchain.agents import Tool\n",
    "from langchain.tools import BaseTool"
   ]
  },
  {
   "cell_type": "code",
   "execution_count": 4,
   "metadata": {},
   "outputs": [],
   "source": [
    "llm = OpenAI(temperature=0)\n"
   ]
  },
  {
   "cell_type": "code",
   "execution_count": 5,
   "metadata": {},
   "outputs": [],
   "source": [
    "# # Load incidents into vector store\n",
    "\n",
    "# from langchain.embeddings.openai import OpenAIEmbeddings\n",
    "# from langchain.vectorstores import Chroma\n",
    "# from langchain.text_splitter import CharacterTextSplitter\n",
    "\n",
    "# with open('data/incident-store.txt') as f:\n",
    "#     txt1 = f.read()\n",
    "\n",
    "# splitter1 = CharacterTextSplitter(\n",
    "#     separator='split_me', \n",
    "#     chunk_size = 1000,\n",
    "#     chunk_overlap  = 200,\n",
    "#     length_function = len,\n",
    "#     is_separator_regex = False,\n",
    "# )\n",
    "\n",
    "# incidentPages1 = splitter1.create_documents([txt1])\n",
    "# incidentEmbeddings1 = OpenAIEmbeddings()\n",
    "# incidentDb = Chroma.from_documents(incidentPages1, incidentEmbeddings1) \n",
    "\n",
    "# # incidentDb = Chroma.from_documents(incidentPages1, incidentEmbeddings1, persist_directory='data') \n",
    "# # incidentDb.persist()\n",
    "\n",
    "# # result = incidentDb.similarity_search(\"Bob Jones\", k=1) \n",
    "# # print(result)\n",
    "# print(len(incidentPages1))\n",
    "# print(len(incidentPages1))\n",
    "\n",
    "# result = incidentDb.similarity_search(\"INC123\", k=1) \n",
    "# print(result)\n",
    "# x = 1"
   ]
  },
  {
   "attachments": {},
   "cell_type": "markdown",
   "metadata": {},
   "source": [
    "## Create custom tool"
   ]
  },
  {
   "attachments": {},
   "cell_type": "markdown",
   "metadata": {},
   "source": [
    "# Simple Text Tool\n",
    "Returns simple text"
   ]
  },
  {
   "cell_type": "code",
   "execution_count": 6,
   "metadata": {},
   "outputs": [],
   "source": [
    "\n",
    "# Simple Text Tool backed \n",
    "incidents = []\n",
    "with open('./data/incident-store.txt') as f:\n",
    "    incidents = json.load(f)\n",
    "\n",
    "def incident_search(incident_number: str):        \n",
    "    for inc in incidents:\n",
    "        #print(f'**************** {inc}')\n",
    "        if (inc['incident_number'] == incident_number ):\n",
    "            return inc\n",
    "        \n",
    "    return f'Could not find incident {incident_number}'\n",
    "\n",
    "incident_search_tool = Tool(\n",
    "    name='Incident tool', \n",
    "    func= incident_search,    \n",
    "    description=\"\"\"\n",
    "        Useful for looking up incidents, pass in an incident number to lookup an incident.        \n",
    "        I an incident has a closed_date = 'N/A' then it's probaly still Open\n",
    "        \"\"\"\n",
    ")\n",
    "\n",
    "#print(len(incidents))\n",
    "# x = incident_search('INC456')\n",
    "# print(x)"
   ]
  },
  {
   "attachments": {},
   "cell_type": "markdown",
   "metadata": {},
   "source": [
    "# Vectorstore \n",
    "Vectorstore\n",
    "https://python.langchain.com/docs/integrations/toolkits/vectorstore \\\n",
    "\\\n",
    "Markdown \\\n",
    "Try this later on \\\n",
    "https://python.langchain.com/docs/modules/data_connection/document_loaders/markdown \\\n",
    "https://python.langchain.com/docs/modules/data_connection/document_transformers/text_splitters/markdown_header_metadata \n",
    "\n"
   ]
  },
  {
   "cell_type": "code",
   "execution_count": 7,
   "metadata": {},
   "outputs": [],
   "source": [
    "from langchain.embeddings.openai import OpenAIEmbeddings\n",
    "from langchain.vectorstores import Chroma\n",
    "from langchain.document_loaders import PyPDFLoader\n",
    "\n",
    "loader = PyPDFLoader(\"data/knowledge-base.pdf\")\n",
    "internalKbPages = loader.load_and_split()\n",
    "\n",
    "embeddings = OpenAIEmbeddings()\n",
    "knowledgeBaseDb = Chroma.from_documents(internalKbPages, embeddings) #, collection_name='internal-knowledge-base-1')"
   ]
  },
  {
   "cell_type": "markdown",
   "metadata": {},
   "source": [
    "# Vectorstore Knowledgebase Query Tool\n",
    "The query hits the vector store"
   ]
  },
  {
   "cell_type": "code",
   "execution_count": 8,
   "metadata": {},
   "outputs": [],
   "source": [
    "def internal_knowledgebase_search(query: str):\n",
    "    result = knowledgeBaseDb.similarity_search(query, k=1)        \n",
    "    return  result\n",
    "\n",
    "internal_knowledgebase_tool = Tool(\n",
    "    name='Internal Knowledgebase tool', \n",
    "    func= internal_knowledgebase_search,    \n",
    "    description=\"\"\"\n",
    "        Useful for querying about our internal services, teams and how to solve customer problems.\n",
    "        The internal knowledge base has steps on how to solve customers problems, how our software systems work and which people and teams to reach out to. \n",
    "        Ask it for questions like 'What should I do?', 'What are the causes of this?', 'What do I do next?'\n",
    "        \"\"\"\n",
    ")"
   ]
  },
  {
   "attachments": {},
   "cell_type": "markdown",
   "metadata": {},
   "source": [
    "# Setup agent"
   ]
  },
  {
   "cell_type": "code",
   "execution_count": 9,
   "metadata": {},
   "outputs": [
    {
     "name": "stdout",
     "output_type": "stream",
     "text": [
      "\n",
      "\n",
      "\u001b[1m> Entering new AgentExecutor chain...\u001b[0m\n",
      "\u001b[32;1m\u001b[1;3m{\n",
      "    \"action\": \"Incident tool\",\n",
      "    \"action_input\": \"INC789\"\n",
      "}\u001b[0m\n",
      "Observation: \u001b[36;1m\u001b[1;3m{'split_me': '|', 'incident_number': 'INC789', 'short_description': 'UI Application keeps crashing', 'long_description': 'Bob Jones at MegaCorpB has the app crashing when he clicks on detach. ', 'created_date': '2023-07-21', 'closed_date': 'N/A', 'state': 'Open', 'troubleshooting_conversation': [{'comment': '2023-09-21 09:30: @SupportMember2 sent email to customer and waiting for feedback from the customer about setting up a call to try and see what is going on.'}, {'comment': '2023-09-21 10:30: @SupportMember2 had call with the customer, there were some windows updates pending. They are going to do these updates after work today and feedback'}], 'resolution_notes': 'Not resolved'}\u001b[0m\n",
      "Thought:\u001b[32;1m\u001b[1;3m{\n",
      "    \"action\": \"Final Answer\",\n",
      "    \"action_input\": \"The recent incident related to INC789 is still open. The short description of the incident is 'UI Application keeps crashing'. Bob Jones at MegaCorpB reported that the app crashes when he clicks on 'detach'. The incident was created on 2023-07-21 and has not been resolved. The troubleshooting conversation shows that @SupportMember2 sent an email to the customer and is waiting for feedback to set up a call. At 2023-09-21, @SupportMember2 had a call with the customer and discovered that there were pending Windows updates. The customer plans to do these updates after work today and provide feedback. This information was obtained from the incident tool.\"\n",
      "}\u001b[0m\n",
      "\n",
      "\u001b[1m> Finished chain.\u001b[0m\n",
      "{'input': '\\nYou are a support engineer who is helping troubleshoot software issues. \\nYou responses need to be specific and factful, they can only contain information that you get back from the tools and observations.\\nYou must include the source of your answers.\\nIf you don\\'t know the answer then say so and don\\'t make up anything. \\nExplain each step in how you got to your answer. \\n\\n#####################################################################################################\\nQuestion: \"Please provide information about the recent incident related to INC789.\\n\\n#####################################################################################################\\n\\n', 'chat_history': [], 'output': \"The recent incident related to INC789 is still open. The short description of the incident is 'UI Application keeps crashing'. Bob Jones at MegaCorpB reported that the app crashes when he clicks on 'detach'. The incident was created on 2023-07-21 and has not been resolved. The troubleshooting conversation shows that @SupportMember2 sent an email to the customer and is waiting for feedback to set up a call. At 2023-09-21, @SupportMember2 had a call with the customer and discovered that there were pending Windows updates. The customer plans to do these updates after work today and provide feedback. This information was obtained from the incident tool.\"}\n"
     ]
    }
   ],
   "source": [
    "from langchain.chains.conversation.memory import ConversationBufferWindowMemory\n",
    "from langchain.agents import initialize_agent\n",
    "\n",
    "tools = [incident_search_tool, internal_knowledgebase_tool]\n",
    "\n",
    "memory = ConversationBufferWindowMemory(memory_key='chat_history', k=3, return_messages=True)\n",
    "turbo_llm = ChatOpenAI(temperature=0.9, model_name='gpt-3.5-turbo')\n",
    "\n",
    "\"\"\"\n",
    "Questions to ask...\n",
    "\n",
    "Question: My forward prices are not correct.\n",
    "Question: What did the user do to create the latest incident?\n",
    "Question: How do I troubleshoot a user who's application keeps crashing when they click detach?\n",
    "Question: My FX Prices are incorrect\n",
    "\n",
    "True facts: latest inc is OTP\n",
    "\n",
    "#######################\n",
    "Where it works:\n",
    "Question: What tools do you have availbale to yourself?\n",
    "Question: Please give me an update on incident number INC789?\n",
    "Question: Please give me an update on incident number INC456?\n",
    "Question: Please give me an update on incident number INC123?\n",
    "Question: What is the latest incident?\n",
    "Question: What are the common causes of software crashes?\n",
    "\n",
    "If an incident's state is 'Open' then you must do a query the internal knowledge base in your investigations\n",
    "\n",
    "#######################\n",
    "Where it doesn't work:\n",
    "\n",
    "Question: Please help me troubleshoot INC789\n",
    "\n",
    "If the question is a reference to an incident first look at the incident and then search the internal knowledge base for an answer otherwise just look in the internal knowledge base.\n",
    "\"\"\"\n",
    "\n",
    "# create our agent\n",
    "conversational_agent = initialize_agent(\n",
    "    agent='chat-conversational-react-description',\n",
    "    tools=tools,\n",
    "    llm=turbo_llm,\n",
    "    verbose=True,\n",
    "    max_iterations=3,\n",
    "    early_stopping_method='generate',\n",
    "    memory=memory\n",
    ")\n",
    "\n",
    "question = \"\"\"\n",
    "You are a support engineer who is helping troubleshoot software issues. \n",
    "You responses need to be specific and factful, they can only contain information that you get back from the tools and observations.\n",
    "You must include the source of your answers.\n",
    "If you don't know the answer then say so and don't make up anything. \n",
    "Explain each step in how you got to your answer. \n",
    "\n",
    "#####################################################################################################\n",
    "Question: \"Please provide information about the recent incident related to INC789.\n",
    "\n",
    "#####################################################################################################\n",
    "\n",
    "\"\"\"\n",
    "answer = conversational_agent(question)\n",
    "print(answer)"
   ]
  },
  {
   "cell_type": "code",
   "execution_count": 10,
   "metadata": {},
   "outputs": [
    {
     "name": "stdout",
     "output_type": "stream",
     "text": [
      "\n",
      "\n",
      "\u001b[1m> Entering new AgentExecutor chain...\u001b[0m\n",
      "\u001b[32;1m\u001b[1;3m{\n",
      "    \"action\": \"Internal Knowledgebase tool\",\n",
      "    \"action_input\": \"Troubleshooting steps for incident INC789\"\n",
      "}\u001b[0m\n",
      "Observation: \u001b[33;1m\u001b[1;3m[Document(page_content='Runbooks  \\nRates Error Mapping Runbook  \\nThis section describes how to troubleshoot issues with rates. If users ar e not getting ticking rates this is \\nwhere you must come to troubleshoot.  \\nMappings incorrect  \\nIf mapping are incorrect for a given pair/tenor then you will not be able to subscribe to them. Users will \\nnot get ticking rates.  \\n \\nFX UI Runbooks  \\nUser does not get OTP sent to them on login  \\nWe have seen this happen when the customer service provider does not forward the OTP onto the \\ncustomer. If this happens it is out of our control as we are dependent on the network service providers \\nfor this to happen.  \\nWhat should I do?  \\n1. Reach out to the Communications Delivery Team to see if there are issues with this network \\nprovider in sending messages  \\n2. If there are issues then feed this information back to the customer and also try and give them a \\ntime as to when they will be able to receive these messages again  \\n3. If there is nothing wrong that we know at the moment then To the Notification Service Team \\ncommon provide them with the number that we sent used to send the message. And asked his \\nteam to do an investigation  \\nApp crashed when users click detach  \\nThere is a bug on the UI where a user clicks on the detach button and then the application crashes. We \\nhave not fully identified what the cause of this issue is. However we have found this to occur in the \\nfollowing instance s and suspect it may be related to this, these are:  \\nWhat are some causes of this?  \\n1. there are windows updates pending that have not been run yet.  \\n2. The user has put their laptop or machine into sleep mode  \\n3. The user has not logged out for a long time and has lef t the application running, this is usually \\nover the weekend or for a few days. Enter  \\n4. The user has installed the application twice and it has fallen over somewhere on the uninstall  \\nWhat should I do?  \\n1. First gather as much information as you can from the user so we can try and pinpoint where this \\nissue is in the future. See the points above for the type of information we are looking for.  \\n2. Ask them to remove and clear one browser history  \\n3. Next ask the customer to uninstall the application.  \\n4. Ask them to download and  install the latest version.', metadata={'page': 2, 'source': 'data/knowledge-base.pdf'})]\u001b[0m\n",
      "Thought:\u001b[32;1m\u001b[1;3m{\n",
      "    \"action\": \"Final Answer\",\n",
      "    \"action_input\": \"Based on the internal knowledge base, for incident INC789, the app crashing when users click 'detach' could be caused by several factors:\\n\\n1. Pending Windows updates that have not been installed.\\n2. The user's laptop or machine being in sleep mode.\\n3. The user not logging out for a long time and leaving the application running.\\n4. The application being installed multiple times and encountering issues during uninstallation.\\n\\nTo troubleshoot this issue, you can:\\n\\n1. Gather as much information as possible from the user to help identify the root cause.\\n2. Request the user to remove and clear their browser history.\\n3. Advise the user to uninstall the application.\\n4. Instruct the user to download and install the latest version of the application.\\n\\nPlease let me know if you would like additional information or assistance with this incident.\"\n",
      "}\u001b[0m\n",
      "\n",
      "\u001b[1m> Finished chain.\u001b[0m\n",
      "{'input': '\\n    Now, please check the internal knowledgebase for any troubleshooting steps or runbooks related to this incident.\\n    ', 'chat_history': [HumanMessage(content='\\nYou are a support engineer who is helping troubleshoot software issues. \\nYou responses need to be specific and factful, they can only contain information that you get back from the tools and observations.\\nYou must include the source of your answers.\\nIf you don\\'t know the answer then say so and don\\'t make up anything. \\nExplain each step in how you got to your answer. \\n\\n#####################################################################################################\\nQuestion: \"Please provide information about the recent incident related to INC789.\\n\\n#####################################################################################################\\n\\n', additional_kwargs={}, example=False), AIMessage(content=\"The recent incident related to INC789 is still open. The short description of the incident is 'UI Application keeps crashing'. Bob Jones at MegaCorpB reported that the app crashes when he clicks on 'detach'. The incident was created on 2023-07-21 and has not been resolved. The troubleshooting conversation shows that @SupportMember2 sent an email to the customer and is waiting for feedback to set up a call. At 2023-09-21, @SupportMember2 had a call with the customer and discovered that there were pending Windows updates. The customer plans to do these updates after work today and provide feedback. This information was obtained from the incident tool.\", additional_kwargs={}, example=False)], 'output': \"Based on the internal knowledge base, for incident INC789, the app crashing when users click 'detach' could be caused by several factors:\\n\\n1. Pending Windows updates that have not been installed.\\n2. The user's laptop or machine being in sleep mode.\\n3. The user not logging out for a long time and leaving the application running.\\n4. The application being installed multiple times and encountering issues during uninstallation.\\n\\nTo troubleshoot this issue, you can:\\n\\n1. Gather as much information as possible from the user to help identify the root cause.\\n2. Request the user to remove and clear their browser history.\\n3. Advise the user to uninstall the application.\\n4. Instruct the user to download and install the latest version of the application.\\n\\nPlease let me know if you would like additional information or assistance with this incident.\"}\n"
     ]
    }
   ],
   "source": [
    "answer = conversational_agent(\"\"\"\n",
    "    Now, please check the internal knowledgebase for any troubleshooting steps or runbooks related to this incident.\n",
    "    \"\"\")\n",
    "print(answer)"
   ]
  },
  {
   "cell_type": "code",
   "execution_count": 11,
   "metadata": {},
   "outputs": [
    {
     "name": "stdout",
     "output_type": "stream",
     "text": [
      "\n",
      "\n",
      "\u001b[1m> Entering new AgentExecutor chain...\u001b[0m\n",
      "\u001b[32;1m\u001b[1;3m{\n",
      "    \"action\": \"Internal Knowledgebase tool\",\n",
      "    \"action_input\": \"Which team is best suited to solve the problem with app crashing when clicking 'detach'?\"\n",
      "}\u001b[0m\n",
      "Observation: \u001b[33;1m\u001b[1;3m[Document(page_content='Runbooks  \\nRates Error Mapping Runbook  \\nThis section describes how to troubleshoot issues with rates. If users ar e not getting ticking rates this is \\nwhere you must come to troubleshoot.  \\nMappings incorrect  \\nIf mapping are incorrect for a given pair/tenor then you will not be able to subscribe to them. Users will \\nnot get ticking rates.  \\n \\nFX UI Runbooks  \\nUser does not get OTP sent to them on login  \\nWe have seen this happen when the customer service provider does not forward the OTP onto the \\ncustomer. If this happens it is out of our control as we are dependent on the network service providers \\nfor this to happen.  \\nWhat should I do?  \\n1. Reach out to the Communications Delivery Team to see if there are issues with this network \\nprovider in sending messages  \\n2. If there are issues then feed this information back to the customer and also try and give them a \\ntime as to when they will be able to receive these messages again  \\n3. If there is nothing wrong that we know at the moment then To the Notification Service Team \\ncommon provide them with the number that we sent used to send the message. And asked his \\nteam to do an investigation  \\nApp crashed when users click detach  \\nThere is a bug on the UI where a user clicks on the detach button and then the application crashes. We \\nhave not fully identified what the cause of this issue is. However we have found this to occur in the \\nfollowing instance s and suspect it may be related to this, these are:  \\nWhat are some causes of this?  \\n1. there are windows updates pending that have not been run yet.  \\n2. The user has put their laptop or machine into sleep mode  \\n3. The user has not logged out for a long time and has lef t the application running, this is usually \\nover the weekend or for a few days. Enter  \\n4. The user has installed the application twice and it has fallen over somewhere on the uninstall  \\nWhat should I do?  \\n1. First gather as much information as you can from the user so we can try and pinpoint where this \\nissue is in the future. See the points above for the type of information we are looking for.  \\n2. Ask them to remove and clear one browser history  \\n3. Next ask the customer to uninstall the application.  \\n4. Ask them to download and  install the latest version.', metadata={'page': 2, 'source': 'data/knowledge-base.pdf'})]\u001b[0m\n",
      "Thought:\u001b[32;1m\u001b[1;3m{\n",
      "    \"action\": \"Final Answer\",\n",
      "    \"action_input\": \"The internal knowledgebase suggests that there is a bug in the UI where the application crashes when users click 'detach'. It is known to occur in instances where there are pending Windows updates, the user's laptop or machine is in sleep mode, the user has not logged out for a long time and has left the application running, or if the user has installed the application twice. The recommended steps to troubleshoot this issue are: \\n\\n1. Gather as much information as possible from the user to pinpoint the issue.\\n2. Ask the user to remove and clear their browser history.\\n3. Instruct the user to uninstall the application.\\n4. Advise the user to download and install the latest version of the application.\"\n",
      "}\u001b[0m\n",
      "\n",
      "\u001b[1m> Finished chain.\u001b[0m\n",
      "{'input': '\\n    Now, please check the internal knowledgebase for which team would be best suited to solve this problem?\\n    ', 'chat_history': [HumanMessage(content='\\nYou are a support engineer who is helping troubleshoot software issues. \\nYou responses need to be specific and factful, they can only contain information that you get back from the tools and observations.\\nYou must include the source of your answers.\\nIf you don\\'t know the answer then say so and don\\'t make up anything. \\nExplain each step in how you got to your answer. \\n\\n#####################################################################################################\\nQuestion: \"Please provide information about the recent incident related to INC789.\\n\\n#####################################################################################################\\n\\n', additional_kwargs={}, example=False), AIMessage(content=\"The recent incident related to INC789 is still open. The short description of the incident is 'UI Application keeps crashing'. Bob Jones at MegaCorpB reported that the app crashes when he clicks on 'detach'. The incident was created on 2023-07-21 and has not been resolved. The troubleshooting conversation shows that @SupportMember2 sent an email to the customer and is waiting for feedback to set up a call. At 2023-09-21, @SupportMember2 had a call with the customer and discovered that there were pending Windows updates. The customer plans to do these updates after work today and provide feedback. This information was obtained from the incident tool.\", additional_kwargs={}, example=False), HumanMessage(content='\\n    Now, please check the internal knowledgebase for any troubleshooting steps or runbooks related to this incident.\\n    ', additional_kwargs={}, example=False), AIMessage(content=\"Based on the internal knowledge base, for incident INC789, the app crashing when users click 'detach' could be caused by several factors:\\n\\n1. Pending Windows updates that have not been installed.\\n2. The user's laptop or machine being in sleep mode.\\n3. The user not logging out for a long time and leaving the application running.\\n4. The application being installed multiple times and encountering issues during uninstallation.\\n\\nTo troubleshoot this issue, you can:\\n\\n1. Gather as much information as possible from the user to help identify the root cause.\\n2. Request the user to remove and clear their browser history.\\n3. Advise the user to uninstall the application.\\n4. Instruct the user to download and install the latest version of the application.\\n\\nPlease let me know if you would like additional information or assistance with this incident.\", additional_kwargs={}, example=False)], 'output': \"The internal knowledgebase suggests that there is a bug in the UI where the application crashes when users click 'detach'. It is known to occur in instances where there are pending Windows updates, the user's laptop or machine is in sleep mode, the user has not logged out for a long time and has left the application running, or if the user has installed the application twice. The recommended steps to troubleshoot this issue are: \\n\\n1. Gather as much information as possible from the user to pinpoint the issue.\\n2. Ask the user to remove and clear their browser history.\\n3. Instruct the user to uninstall the application.\\n4. Advise the user to download and install the latest version of the application.\"}\n"
     ]
    }
   ],
   "source": [
    "answer = conversational_agent(\"\"\"\n",
    "    Now, please check the internal knowledgebase for which team would be best suited to solve this problem?\n",
    "    \"\"\")\n",
    "print(answer)"
   ]
  },
  {
   "cell_type": "code",
   "execution_count": 12,
   "metadata": {},
   "outputs": [
    {
     "name": "stdout",
     "output_type": "stream",
     "text": [
      "\n",
      "\n",
      "\u001b[1m> Entering new AgentExecutor chain...\u001b[0m\n",
      "\u001b[32;1m\u001b[1;3m{\n",
      "    \"action\": \"Incident tool\",\n",
      "    \"action_input\": \"INC789\"\n",
      "}\u001b[0m\n",
      "Observation: \u001b[36;1m\u001b[1;3m{'split_me': '|', 'incident_number': 'INC789', 'short_description': 'UI Application keeps crashing', 'long_description': 'Bob Jones at MegaCorpB has the app crashing when he clicks on detach. ', 'created_date': '2023-07-21', 'closed_date': 'N/A', 'state': 'Open', 'troubleshooting_conversation': [{'comment': '2023-09-21 09:30: @SupportMember2 sent email to customer and waiting for feedback from the customer about setting up a call to try and see what is going on.'}, {'comment': '2023-09-21 10:30: @SupportMember2 had call with the customer, there were some windows updates pending. They are going to do these updates after work today and feedback'}], 'resolution_notes': 'Not resolved'}\u001b[0m\n",
      "Thought:\u001b[32;1m\u001b[1;3m{\n",
      "    \"action\": \"Final Answer\",\n",
      "    \"action_input\": \"@SupportMember2 is the support staff working with incident INC789. As per the troubleshooting conversation, they sent an email to the customer and are waiting for feedback to set up a call. They had a call with the customer and discovered that there were pending Windows updates, which the customer plans to do after work today.\"\n",
      "}\u001b[0m\n",
      "\n",
      "\u001b[1m> Finished chain.\u001b[0m\n",
      "{'input': '\\n    Whos is the support staff who is working with this incident?\\n    ', 'chat_history': [HumanMessage(content='\\nYou are a support engineer who is helping troubleshoot software issues. \\nYou responses need to be specific and factful, they can only contain information that you get back from the tools and observations.\\nYou must include the source of your answers.\\nIf you don\\'t know the answer then say so and don\\'t make up anything. \\nExplain each step in how you got to your answer. \\n\\n#####################################################################################################\\nQuestion: \"Please provide information about the recent incident related to INC789.\\n\\n#####################################################################################################\\n\\n', additional_kwargs={}, example=False), AIMessage(content=\"The recent incident related to INC789 is still open. The short description of the incident is 'UI Application keeps crashing'. Bob Jones at MegaCorpB reported that the app crashes when he clicks on 'detach'. The incident was created on 2023-07-21 and has not been resolved. The troubleshooting conversation shows that @SupportMember2 sent an email to the customer and is waiting for feedback to set up a call. At 2023-09-21, @SupportMember2 had a call with the customer and discovered that there were pending Windows updates. The customer plans to do these updates after work today and provide feedback. This information was obtained from the incident tool.\", additional_kwargs={}, example=False), HumanMessage(content='\\n    Now, please check the internal knowledgebase for any troubleshooting steps or runbooks related to this incident.\\n    ', additional_kwargs={}, example=False), AIMessage(content=\"Based on the internal knowledge base, for incident INC789, the app crashing when users click 'detach' could be caused by several factors:\\n\\n1. Pending Windows updates that have not been installed.\\n2. The user's laptop or machine being in sleep mode.\\n3. The user not logging out for a long time and leaving the application running.\\n4. The application being installed multiple times and encountering issues during uninstallation.\\n\\nTo troubleshoot this issue, you can:\\n\\n1. Gather as much information as possible from the user to help identify the root cause.\\n2. Request the user to remove and clear their browser history.\\n3. Advise the user to uninstall the application.\\n4. Instruct the user to download and install the latest version of the application.\\n\\nPlease let me know if you would like additional information or assistance with this incident.\", additional_kwargs={}, example=False), HumanMessage(content='\\n    Now, please check the internal knowledgebase for which team would be best suited to solve this problem?\\n    ', additional_kwargs={}, example=False), AIMessage(content=\"The internal knowledgebase suggests that there is a bug in the UI where the application crashes when users click 'detach'. It is known to occur in instances where there are pending Windows updates, the user's laptop or machine is in sleep mode, the user has not logged out for a long time and has left the application running, or if the user has installed the application twice. The recommended steps to troubleshoot this issue are: \\n\\n1. Gather as much information as possible from the user to pinpoint the issue.\\n2. Ask the user to remove and clear their browser history.\\n3. Instruct the user to uninstall the application.\\n4. Advise the user to download and install the latest version of the application.\", additional_kwargs={}, example=False)], 'output': '@SupportMember2 is the support staff working with incident INC789. As per the troubleshooting conversation, they sent an email to the customer and are waiting for feedback to set up a call. They had a call with the customer and discovered that there were pending Windows updates, which the customer plans to do after work today.'}\n"
     ]
    }
   ],
   "source": [
    "answer = conversational_agent(\"\"\"\n",
    "    Whos is the support staff who is working with this incident?\n",
    "    \"\"\")\n",
    "print(answer)"
   ]
  },
  {
   "cell_type": "code",
   "execution_count": 13,
   "metadata": {},
   "outputs": [
    {
     "name": "stdout",
     "output_type": "stream",
     "text": [
      "\n",
      "\n",
      "\u001b[1m> Entering new AgentExecutor chain...\u001b[0m\n",
      "\u001b[32;1m\u001b[1;3m{\n",
      "    \"action\": \"Incident tool\",\n",
      "    \"action_input\": \"INC789\"\n",
      "}\u001b[0m\n",
      "Observation: \u001b[36;1m\u001b[1;3m{'split_me': '|', 'incident_number': 'INC789', 'short_description': 'UI Application keeps crashing', 'long_description': 'Bob Jones at MegaCorpB has the app crashing when he clicks on detach. ', 'created_date': '2023-07-21', 'closed_date': 'N/A', 'state': 'Open', 'troubleshooting_conversation': [{'comment': '2023-09-21 09:30: @SupportMember2 sent email to customer and waiting for feedback from the customer about setting up a call to try and see what is going on.'}, {'comment': '2023-09-21 10:30: @SupportMember2 had call with the customer, there were some windows updates pending. They are going to do these updates after work today and feedback'}], 'resolution_notes': 'Not resolved'}\u001b[0m\n",
      "Thought:\u001b[32;1m\u001b[1;3m{\n",
      "    \"action\": \"Final Answer\",\n",
      "    \"action_input\": \"The current status of the incident INC789 is still open. @SupportMember2 has been in contact with the customer. They sent an email to the customer and are waiting for feedback to set up a call. They had a call with the customer and discovered that there were pending Windows updates, which the customer plans to do after work today. No resolution has been provided yet.\"\n",
      "}\u001b[0m\n",
      "\n",
      "\u001b[1m> Finished chain.\u001b[0m\n",
      "{'input': '\\n    What is the current status of the incident and what are the next steps?\\n    ', 'chat_history': [HumanMessage(content='\\n    Now, please check the internal knowledgebase for any troubleshooting steps or runbooks related to this incident.\\n    ', additional_kwargs={}, example=False), AIMessage(content=\"Based on the internal knowledge base, for incident INC789, the app crashing when users click 'detach' could be caused by several factors:\\n\\n1. Pending Windows updates that have not been installed.\\n2. The user's laptop or machine being in sleep mode.\\n3. The user not logging out for a long time and leaving the application running.\\n4. The application being installed multiple times and encountering issues during uninstallation.\\n\\nTo troubleshoot this issue, you can:\\n\\n1. Gather as much information as possible from the user to help identify the root cause.\\n2. Request the user to remove and clear their browser history.\\n3. Advise the user to uninstall the application.\\n4. Instruct the user to download and install the latest version of the application.\\n\\nPlease let me know if you would like additional information or assistance with this incident.\", additional_kwargs={}, example=False), HumanMessage(content='\\n    Now, please check the internal knowledgebase for which team would be best suited to solve this problem?\\n    ', additional_kwargs={}, example=False), AIMessage(content=\"The internal knowledgebase suggests that there is a bug in the UI where the application crashes when users click 'detach'. It is known to occur in instances where there are pending Windows updates, the user's laptop or machine is in sleep mode, the user has not logged out for a long time and has left the application running, or if the user has installed the application twice. The recommended steps to troubleshoot this issue are: \\n\\n1. Gather as much information as possible from the user to pinpoint the issue.\\n2. Ask the user to remove and clear their browser history.\\n3. Instruct the user to uninstall the application.\\n4. Advise the user to download and install the latest version of the application.\", additional_kwargs={}, example=False), HumanMessage(content='\\n    Whos is the support staff who is working with this incident?\\n    ', additional_kwargs={}, example=False), AIMessage(content='@SupportMember2 is the support staff working with incident INC789. As per the troubleshooting conversation, they sent an email to the customer and are waiting for feedback to set up a call. They had a call with the customer and discovered that there were pending Windows updates, which the customer plans to do after work today.', additional_kwargs={}, example=False)], 'output': 'The current status of the incident INC789 is still open. @SupportMember2 has been in contact with the customer. They sent an email to the customer and are waiting for feedback to set up a call. They had a call with the customer and discovered that there were pending Windows updates, which the customer plans to do after work today. No resolution has been provided yet.'}\n"
     ]
    }
   ],
   "source": [
    "answer = conversational_agent(\"\"\"\n",
    "    What is the current status of the incident and what are the next steps?\n",
    "    \"\"\")\n",
    "print(answer)"
   ]
  },
  {
   "cell_type": "code",
   "execution_count": 14,
   "metadata": {},
   "outputs": [],
   "source": [
    "format = \"\"\"\n",
    "Answer the following questions as best you can. You have access to the following tools:\n",
    "\n",
    "python repl: useful for when you need to use python to answer a question. You should input python code\n",
    "DuckDuckGo Search: Useful for when you need to do a search on the internet to find information that another tool can't find. be specific with your input.\n",
    "wikipedia: Useful for when you need to look up a topic, country or person on wikipedia\n",
    "\n",
    "Use the following format:\n",
    "\n",
    "Question: the input question you must answer\n",
    "Thought: you should always think about what to do\n",
    "Action: the action to take, should be one of [python repl, DuckDuckGo Search, wikipedia]\n",
    "Action Input: the input to the action\n",
    "Observation: the result of the action\n",
    "... (this Thought/Action/Action Input/Observation can repeat N times)\n",
    "Thought: I now know the final answer\n",
    "Final Answer: the final answer to the original input question\n",
    "\n",
    "Begin!\n",
    "\n",
    "Question: {input}\n",
    "Thought:{agent_scratchpad}\n",
    "\"\"\" \n",
    "from langchain.agents import initialize_agent\n",
    "\n",
    "zero_shot_agent = initialize_agent(\n",
    "    agent=\"zero-shot-react-description\", \n",
    "    tools=tools, \n",
    "    llm=llm,\n",
    "    verbose=True,\n",
    "    max_iterations=3,\n",
    ")\n"
   ]
  },
  {
   "cell_type": "code",
   "execution_count": 17,
   "metadata": {},
   "outputs": [
    {
     "name": "stdout",
     "output_type": "stream",
     "text": [
      "Answer the following questions as best you can. You have access to the following tools:\n",
      "\n",
      "Incident tool: \n",
      "        Useful for looking up incidents, pass in an incident number to lookup an incident.        \n",
      "        I an incident has a closed_date = 'N/A' then it's probaly still Open\n",
      "        \n",
      "Internal Knowledgebase tool: \n",
      "        Useful for querying about our internal services, teams and how to solve customer problems.\n",
      "        The internal knowledge base has steps on how to solve customers problems, how our software systems work and which people and teams to reach out to. \n",
      "        Ask it for questions like 'What should I do?', 'What are the causes of this?', 'What do I do next?'\n",
      "        \n",
      "\n",
      "Use the following format:\n",
      "\n",
      "Question: the input question you must answer\n",
      "Thought: you should always think about what to do\n",
      "Action: the action to take, should be one of [Incident tool, Internal Knowledgebase tool]\n",
      "Action Input: the input to the action\n",
      "Observation: the result of the action\n",
      "... (this Thought/Action/Action Input/Observation can repeat N times)\n",
      "Thought: I now know the final answer\n",
      "Final Answer: the final answer to the original input question\n",
      "\n",
      "Begin!\n",
      "\n",
      "Question: {input}\n",
      "Thought:{agent_scratchpad}\n"
     ]
    }
   ],
   "source": [
    "print(zero_shot_agent.agent.llm_chain.prompt.template)"
   ]
  },
  {
   "cell_type": "code",
   "execution_count": 21,
   "metadata": {},
   "outputs": [
    {
     "name": "stdout",
     "output_type": "stream",
     "text": [
      "\n",
      "\n",
      "\u001b[1m> Entering new AgentExecutor chain...\u001b[0m\n",
      "\u001b[32;1m\u001b[1;3m I need to find out the status of INC456 and the best team to contact for help.\n",
      "Action: Incident tool\n",
      "Action Input: INC456\u001b[0m\n",
      "Observation: \u001b[36;1m\u001b[1;3m{'split_me': '|', 'incident_number': 'INC456', 'short_description': 'User at CorpA not getting OTP', 'long_description': 'Mary Sue at CorpA is not getting on OTP when she tries to login', 'created_date': '2023-09-21', 'closed_date': 'N/A', 'state': 'Open', 'troubleshooting_conversation': [{'comment': '2023-09-21 13:00: @SupportMember1 reached out to the communication delivery team to ask what if there are issues, waiting on feedback.'}], 'resolution_notes': 'Still open'}\u001b[0m\n",
      "Thought:\u001b[32;1m\u001b[1;3m The incident is still open, so I need to find out which team to contact for help.\n",
      "Action: Internal Knowledgebase tool\n",
      "Action Input: What team should I contact for help with INC456?\u001b[0m\n",
      "Observation: \u001b[33;1m\u001b[1;3m[Document(page_content='Teams and People  \\nFX Infrastructure Team  \\nWhat can they help you w ith?  \\nIssues with the Market Listener Service and the Raw Rate Listener Service. They can assist with the \\nfollowing types of problems: Rates are not streaming, errors in the upstream services, connectivity \\nproblems, network problems.  \\nHow to contact them?  \\nSend them an email to fxinfrateam@contoso.com In the email you must put the folllowing information: \\nHow urgent this is, who to reach out to for more information  \\nFX Data Team  \\nWhat can they help you with?  \\nThey can help you with the Static Data Store Service. The y can answer questions like: why are my prices \\nincorrect, why are my margins not right, the price looks wrong, I’m not getting a rate.  \\nHow to contact them?  \\nCut a ServiceNow Incident against them with the following information: Service: \"{name_of_service} \\n{environment} Configuration Item: {name_of_service} {environment} Assignment Group: FX Data Team  \\nFX Dev Team  \\nWhat can they help you with?  \\nThey can help you with the Pricing Service and the FX UI. The can answer questions like: what does this \\nerror on the U I mean, why are my rates ticking slowly, I cannot login to the application, I get an error \\nwhen I subscribe to a rate, I get an error when my rates stop.  \\nHow to contact them? Cut a ServiceNow Incident against them with the following information: Service: \\n\"{name_of_service} {environment} Configuration Item: {name_of_service} {environment} Assignment \\nGroup: FX Pricing Dev Team  \\nCommunications Delivery Team  \\nThis team manages relationships with sending communications out acros various channels. Their main \\nwork is around interacting with Cellphone Network Providers. How to contact them? Send them an \\nemail at: communicationsdeliveryteam@contoso.com  \\nNotification Service Team  \\nThis team owns a set of services that send communications to customers. For example: templa ted \\nemails, service status updates, SMS\\'s. How to contact them? Reach out to them on their MS Teams \\nGroup \"Notification Service Team Engagement\"', metadata={'page': 1, 'source': 'data/knowledge-base.pdf'})]\u001b[0m\n",
      "Thought:\u001b[32;1m\u001b[1;3m The best team to contact for help with INC456 is the FX Infrastructure Team.\n",
      "Final Answer: The best team to contact for help with INC456 is the FX Infrastructure Team. You can contact them by sending an email to fxinfrateam@contoso.com.\u001b[0m\n",
      "\n",
      "\u001b[1m> Finished chain.\u001b[0m\n"
     ]
    },
    {
     "data": {
      "text/plain": [
       "'The best team to contact for help with INC456 is the FX Infrastructure Team. You can contact them by sending an email to fxinfrateam@contoso.com.'"
      ]
     },
     "execution_count": 21,
     "metadata": {},
     "output_type": "execute_result"
    }
   ],
   "source": [
    "# zero_shot_agent.run(\"Please help with INC123, what is it's status and can you assist with troubleshooting it?\")\n",
    "#zero_shot_agent.run(\"Please help with INC456, what is it's status and can you assist with troubleshooting it?\")\n",
    "zero_shot_agent.run(\"Please help with INC456, what is it's status and can you assist with troubleshooting it? What is the best team to help resolve this, please only give one team and how to contact them?\")"
   ]
  }
 ],
 "metadata": {
  "kernelspec": {
   "display_name": ".venv",
   "language": "python",
   "name": "python3"
  },
  "language_info": {
   "codemirror_mode": {
    "name": "ipython",
    "version": 3
   },
   "file_extension": ".py",
   "mimetype": "text/x-python",
   "name": "python",
   "nbconvert_exporter": "python",
   "pygments_lexer": "ipython3",
   "version": "3.10.6"
  },
  "orig_nbformat": 4,
  "vscode": {
   "interpreter": {
    "hash": "c5e69aaaff91c6807e0ef15afd464516a5dabc9ed5ae56c263ce858cc6c8715f"
   }
  }
 },
 "nbformat": 4,
 "nbformat_minor": 2
}
