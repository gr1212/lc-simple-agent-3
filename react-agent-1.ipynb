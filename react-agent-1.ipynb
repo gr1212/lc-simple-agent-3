{
 "cells": [
  {
   "cell_type": "code",
   "execution_count": null,
   "metadata": {},
   "outputs": [],
   "source": [
    "import os\n",
    "import json\n",
    "\n",
    "# Load setting from Json outside of project.\n",
    "f = open('../../env/ai.json')\n",
    "settingsJson = json.load(f)\n",
    "del f\n",
    "\n",
    "for key in settingsJson:\n",
    "    os.environ[key] = settingsJson[key]\n",
    "    \n",
    "del settingsJson"
   ]
  },
  {
   "cell_type": "code",
   "execution_count": null,
   "metadata": {},
   "outputs": [],
   "source": [
    "from langchain.document_loaders import PyPDFLoader \n",
    "from langchain.embeddings import OpenAIEmbeddings \n",
    "from langchain.vectorstores import Chroma \n",
    "from langchain.chains import ConversationalRetrievalChain\n",
    "from langchain.memory import ConversationBufferMemory\n",
    "from langchain.llms import OpenAI\n",
    "from langchain.embeddings.openai import OpenAIEmbeddings\n",
    "from langchain.agents import Tool"
   ]
  },
  {
   "cell_type": "code",
   "execution_count": null,
   "metadata": {},
   "outputs": [],
   "source": [
    "from langchain.document_loaders import PyPDFDirectoryLoader\n",
    "loader = PyPDFDirectoryLoader('./data/pdfs')\n",
    "docs = loader.load()"
   ]
  },
  {
   "cell_type": "code",
   "execution_count": null,
   "metadata": {},
   "outputs": [],
   "source": [
    "#print(docs)"
   ]
  },
  {
   "cell_type": "code",
   "execution_count": null,
   "metadata": {},
   "outputs": [],
   "source": [
    "embeddings = OpenAIEmbeddings()\n",
    "vectordb = Chroma.from_documents(docs, embedding=embeddings) #,  persist_directory=\".\")"
   ]
  },
  {
   "cell_type": "code",
   "execution_count": null,
   "metadata": {},
   "outputs": [
    {
     "name": "stdout",
     "output_type": "stream",
     "text": [
      "Cape Town is a port city on South Africa’s southwest coast, on a peninsula beneath the imposing Table Mountain. Slowly rotating cable cars climb to the mountain’s flat top, from which there are sweeping views of the city, the busy harbor and boats heading for Robben Island, the notorious prison that once held Nelson Mandela, which is now a living museum. ― Google\n"
     ]
    }
   ],
   "source": [
    "# Search Tool  - https://serpapi.com/blog/filtering-google-search-and-google-news-results/\n",
    "\n",
    "#!pip install google-search-results\n",
    "from langchain.utilities import SerpAPIWrapper\n",
    "search = SerpAPIWrapper()\n",
    "\n",
    "def news_search(query: str):\n",
    "    # https://serpapi.com/blog/filtering-google-search-and-google-news-results/\n",
    "    # Past Hour: tbs-qdr:h\n",
    "    # Past week: tbs-qdr:w\n",
    "    # tbs=sbd:1\n",
    "    # News:     tbm=nws\n",
    "    # tbm=nws q:\n",
    "    result = search.run(f\"\"\"\" \n",
    "                        {query}\n",
    "                        \"\"\")\n",
    "    return result\n",
    "\n",
    "news_search_tool = Tool(\n",
    "    name='Public search tool', \n",
    "    func= news_search,    \n",
    "    description=\"\"\"\n",
    "        Useful for searching for latest news. \n",
    "        \"\"\"\n",
    ")\n",
    "\n",
    "# result = news_search(\"Cape Town\")\n",
    "# print(result)"
   ]
  },
  {
   "cell_type": "code",
   "execution_count": null,
   "metadata": {},
   "outputs": [],
   "source": [
    "questions = \"\"\" \n",
    "\n",
    "Question: What do you specialise in?\n",
    "Question: Can you tell me the latest news about Kenya?\n",
    "\n",
    "\"\"\""
   ]
  },
  {
   "cell_type": "code",
   "execution_count": null,
   "metadata": {},
   "outputs": [
    {
     "name": "stdout",
     "output_type": "stream",
     "text": [
      "\n",
      "\n",
      "\u001b[1m> Entering new AgentExecutor chain...\u001b[0m\n",
      "\u001b[32;1m\u001b[1;3m{\n",
      "    \"action\": \"Public search tool\",\n",
      "    \"action_input\": \"latest news about Kenya authorised dealers sending money to Kenya\"\n",
      "}\u001b[0m\n",
      "Observation: \u001b[36;1m\u001b[1;3mWhat would you like to see featured on the new Kenyan currency? 10/02/2012, Reduced Clearing cycle for Cheques. 17/04/2012, Establishment of the Financial ...\u001b[0m\n",
      "Thought:\u001b[32;1m\u001b[1;3m{\n",
      "    \"action\": \"Final Answer\",\n",
      "    \"action_input\": \"The latest news about Kenya related to authorized dealers wanting to send money to Kenya is not available. It seems that there is no recent news specifically addressing this topic.\" \n",
      "}\u001b[0m\n",
      "\n",
      "\u001b[1m> Finished chain.\u001b[0m\n"
     ]
    }
   ],
   "source": [
    "from langchain.chat_models import ChatOpenAI\n",
    "from langchain.chains.conversation.memory import ConversationBufferWindowMemory\n",
    "from langchain.agents import initialize_agent\n",
    "\n",
    "tools = [news_search_tool]\n",
    "\n",
    "#llm = OpenAI(temperature=0)\n",
    "memory = ConversationBufferWindowMemory(memory_key='chat_history', k=3, return_messages=True)\n",
    "\n",
    "# create our agent\n",
    "conversational_agent = initialize_agent(agent='chat-conversational-react-description', tools=tools, llm=ChatOpenAI(temperature=0.9, model_name='gpt-3.5-turbo'), \n",
    "    verbose=True, max_iterations=3, early_stopping_method='generate', memory=memory)\n",
    "# conversational_agent = ConversationalRetrievalChain.from_llm(OpenAI(temperature=0.8), vectordb.as_retriever(), memory=memory \n",
    "#                                                              ,verbose=True\n",
    "#                                                              , tools=tools\n",
    "#                                                              )\n",
    "\n",
    "question = \"\"\"\n",
    "You are a helpful and empathetic financial expert explaining financial documents to people, please explain your answer to me as if I am a 10 year old. \n",
    "Think through and explain how you go to your answer. \n",
    "\n",
    "Question: Can you tell me the latest news about Kenya relates to authorised dealers wanting to send money to Kenya?\n",
    "\n",
    "\"\"\"\n",
    "answer = conversational_agent(question)\n",
    "#print(answer)\n",
    "#print(answer['answer'])"
   ]
  },
  {
   "cell_type": "code",
   "execution_count": null,
   "metadata": {},
   "outputs": [
    {
     "name": "stdout",
     "output_type": "stream",
     "text": [
      "\n",
      "\n",
      "\u001b[1m> Entering new AgentExecutor chain...\u001b[0m\n",
      "\u001b[32;1m\u001b[1;3m{\n",
      "    \"action\": \"Public search tool\",\n",
      "    \"action_input\": \"What are authorised dealers in finance?\"\n",
      "}\u001b[0m\n",
      "Observation: \u001b[36;1m\u001b[1;3mAn authorized forex dealer is a type of financial institution that has received authorization from a relevant regulatory body to act as a dealer involved in the trading of foreign currencies.\u001b[0m\n",
      "Thought:\u001b[32;1m\u001b[1;3m{\n",
      "    \"action\": \"Final Answer\",\n",
      "    \"action_input\": \"An authorised dealer in finance is a type of financial institution that has received authorization from a relevant regulatory body to act as a dealer involved in the trading of foreign currencies.\"\n",
      "}\u001b[0m\n",
      "\n",
      "\u001b[1m> Finished chain.\u001b[0m\n"
     ]
    },
    {
     "data": {
      "text/plain": [
       "{'input': 'Question: Tell me about authorised dealers, what are they?',\n",
       " 'chat_history': [HumanMessage(content='\\nYou are a helpful and empathetic financial expert explaining financial documents to people, please explain your answer to me as if I am a 10 year old. \\nThink through and explain how you go to your answer. \\n\\nQuestion: Can you tell me the latest news about Kenya relates to authorised dealers wanting to send money to Kenya?\\n\\n', additional_kwargs={}, example=False),\n",
       "  AIMessage(content='The latest news about authorised dealers wanting to send money to Kenya is that you can send money securely from your phone to loved ones in Kenya using the Sendwave app. You can send money to M-PESA mobile wallets and select banks with no fees.', additional_kwargs={}, example=False)],\n",
       " 'output': 'An authorised dealer in finance is a type of financial institution that has received authorization from a relevant regulatory body to act as a dealer involved in the trading of foreign currencies.'}"
      ]
     },
     "execution_count": 9,
     "metadata": {},
     "output_type": "execute_result"
    }
   ],
   "source": [
    "conversational_agent(\"Question: Tell me about authorised dealers, what are they?\")\n"
   ]
  }
 ],
 "metadata": {
  "kernelspec": {
   "display_name": ".venv",
   "language": "python",
   "name": "python3"
  },
  "language_info": {
   "codemirror_mode": {
    "name": "ipython",
    "version": 3
   },
   "file_extension": ".py",
   "mimetype": "text/x-python",
   "name": "python",
   "nbconvert_exporter": "python",
   "pygments_lexer": "ipython3",
   "version": "3.10.6"
  },
  "orig_nbformat": 4
 },
 "nbformat": 4,
 "nbformat_minor": 2
}
